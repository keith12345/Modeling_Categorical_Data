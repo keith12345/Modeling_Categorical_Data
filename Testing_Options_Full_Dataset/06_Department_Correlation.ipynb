{
 "cells": [
  {
   "cell_type": "code",
   "execution_count": 1,
   "metadata": {},
   "outputs": [],
   "source": [
    "import os\n",
    "\n",
    "from collections import defaultdict\n",
    "\n",
    "import pandas as pd\n",
    "import numpy as np\n",
    "\n",
    "import matplotlib.pyplot as plt\n",
    "\n",
    "from Standard_functions import get_user_split_data, plot_fit_score_pred,fit_score_pred_G_NB\n",
    "from sklearn.naive_bayes import GaussianNB\n",
    "from sklearn.metrics import roc_auc_score\n",
    "from sklearn.metrics import roc_curve, f1_score\n",
    "import copy\n",
    "\n",
    "import warnings\n",
    "\n",
    "warnings.filterwarnings('always') "
   ]
  },
  {
   "cell_type": "code",
   "execution_count": 2,
   "metadata": {},
   "outputs": [],
   "source": [
    "os.chdir('../Data/')"
   ]
  },
  {
   "cell_type": "markdown",
   "metadata": {},
   "source": [
    "## Department Correlation categorical feature handling"
   ]
  },
  {
   "cell_type": "code",
   "execution_count": 3,
   "metadata": {},
   "outputs": [],
   "source": [
    "df = pd.read_pickle('full_features')\n",
    "df.drop(['max_order_number'],axis=1,inplace=True)"
   ]
  },
  {
   "cell_type": "code",
   "execution_count": 4,
   "metadata": {},
   "outputs": [],
   "source": [
    "products = pd.read_csv('products.csv')\n",
    "\n",
    "products.drop(['product_name','aisle_id'],axis=1,inplace=True)\n",
    "department_and_target = df[['product_id','in_cart']].merge(products,on='product_id')\n",
    "\n",
    "product_dummies = pd.get_dummies(department_and_target.department_id)\n",
    "target = department_and_target['in_cart']\n",
    "\n",
    "dummies_and_target = pd.DataFrame(target).merge(product_dummies,\n",
    "                                       left_index=True,\n",
    "                                       right_index=True)\n",
    "\n",
    "out = defaultdict(list)\n",
    "in_cart = dummies_and_target.in_cart\n",
    "dummies_len = len(dummies_and_target.columns)\n",
    "\n",
    "for i in range(1,dummies_len):\n",
    "    dummy = dummies_and_target.loc[:,i]\n",
    "    corr_dic = {'in_cart':in_cart,i:dummy}\n",
    "    corr_df = pd.DataFrame(corr_dic).corr()\n",
    "\n",
    "    out[i] = corr_df[i]['in_cart']*1000\n",
    "    \n",
    "departments_corr = pd.DataFrame(out,index=range(0,1)).T.reset_index()\n",
    "departments_corr.columns = ['department_id','department_target_correlation']\n",
    "pd.to_pickle(departments_corr,'department_correlations_full_features')"
   ]
  },
  {
   "cell_type": "code",
   "execution_count": 5,
   "metadata": {},
   "outputs": [],
   "source": [
    "departments_corr = pd.read_pickle('department_correlations_full_features')\n",
    "df = df.merge(products,on='product_id')\n",
    "df = df.merge(departments_corr,on='department_id')\n",
    "df.drop(['department_id'],axis=1,inplace=True)"
   ]
  },
  {
   "cell_type": "code",
   "execution_count": 6,
   "metadata": {},
   "outputs": [
    {
     "name": "stdout",
     "output_type": "stream",
     "text": [
      "Gaussian Naive Bayes:\n",
      "Our f1-score is 0.3979265804648578\n",
      "And we've predicted 1506766 non-re-orders and 200827 re-orders.\n"
     ]
    }
   ],
   "source": [
    "X_tr, X_val, y_tr, y_val = get_user_split_data(df, val_size=.2, seed=42)\n",
    "print('Gaussian Naive Bayes:')\n",
    "fit_score_pred_G_NB(X_tr, X_val, y_tr, y_val)"
   ]
  },
  {
   "cell_type": "markdown",
   "metadata": {},
   "source": [
    "## ROC AUC"
   ]
  },
  {
   "cell_type": "code",
   "execution_count": 7,
   "metadata": {},
   "outputs": [],
   "source": [
    "X_tr, X_val, y_tr, y_val = get_user_split_data(df)"
   ]
  },
  {
   "cell_type": "code",
   "execution_count": 8,
   "metadata": {},
   "outputs": [],
   "source": [
    "clf = GaussianNB(var_smoothing=1e-9)\n",
    "clf.fit(X_tr, y_tr)\n",
    "probabilities = clf.predict_proba(X_val)[:,1]\n"
   ]
  },
  {
   "cell_type": "code",
   "execution_count": 9,
   "metadata": {},
   "outputs": [],
   "source": [
    "fpr, tpr, thresholds = roc_curve(y_val,probabilities)"
   ]
  },
  {
   "cell_type": "code",
   "execution_count": 10,
   "metadata": {},
   "outputs": [
    {
     "name": "stdout",
     "output_type": "stream",
     "text": [
      "ROC AUC score =  0.797307070401364\n"
     ]
    },
    {
     "data": {
      "image/png": "[encoded data removed]",
      "text/plain": [
       "<Figure size 432x288 with 1 Axes>"
      ]
     },
     "metadata": {
      "needs_background": "light"
     },
     "output_type": "display_data"
    }
   ],
   "source": [
    "plt.plot(fpr, tpr,lw=2)\n",
    "plt.plot([0,1],[0,1],c='violet',ls='--')\n",
    "plt.xlim([-0.05,1.05])\n",
    "plt.ylim([-0.05,1.05])\n",
    "\n",
    "plt.xlabel('False positive rate')\n",
    "plt.ylabel('True positive rate')\n",
    "plt.title('Mah Curve');\n",
    "print(\"ROC AUC score = \", roc_auc_score(y_val, probabilities))"
   ]
  },
  {
   "cell_type": "markdown",
   "metadata": {},
   "source": [
    "## Messing with thresholds"
   ]
  },
  {
   "cell_type": "code",
   "execution_count": 11,
   "metadata": {},
   "outputs": [],
   "source": [
    "X_tr, X_val, y_tr, y_val = get_user_split_data(df)"
   ]
  },
  {
   "cell_type": "code",
   "execution_count": 12,
   "metadata": {},
   "outputs": [],
   "source": [
    "clf = GaussianNB(var_smoothing=1e-9)\n",
    "clf.fit(X_tr, y_tr)\n",
    "probabilities = clf.predict_proba(X_val)[:,1]\n"
   ]
  },
  {
   "cell_type": "code",
   "execution_count": 13,
   "metadata": {},
   "outputs": [
    {
     "data": {
      "text/plain": [
       "0.797307070401364"
      ]
     },
     "execution_count": 13,
     "metadata": {},
     "output_type": "execute_result"
    }
   ],
   "source": [
    "roc_auc_score(y_val,probabilities)"
   ]
  },
  {
   "cell_type": "code",
   "execution_count": 14,
   "metadata": {},
   "outputs": [],
   "source": [
    "fpr, tpr, thresholds = roc_curve(y_val,probabilities)"
   ]
  },
  {
   "cell_type": "code",
   "execution_count": 15,
   "metadata": {},
   "outputs": [],
   "source": [
    "probs = pd.DataFrame(probabilities)\n",
    "probs.columns = ['score']\n",
    "test = copy.deepcopy(probs)"
   ]
  },
  {
   "cell_type": "code",
   "execution_count": 16,
   "metadata": {},
   "outputs": [
    {
     "data": {
      "text/plain": [
       "{0.1: 0.39290703588458836,\n",
       " 0.12758620689655173: 0.3954796000332383,\n",
       " 0.15517241379310345: 0.3970270918245025,\n",
       " 0.1827586206896552: 0.39779364678943596,\n",
       " 0.21034482758620693: 0.3984333546398418,\n",
       " 0.23793103448275865: 0.3982592278203039,\n",
       " 0.2655172413793104: 0.39838647519370407,\n",
       " 0.2931034482758621: 0.39837044025802215,\n",
       " 0.3206896551724138: 0.3984722348097414,\n",
       " 0.34827586206896555: 0.39857331364889403,\n",
       " 0.3758620689655173: 0.39832587903210925,\n",
       " 0.403448275862069: 0.39825455549860167,\n",
       " 0.4310344827586208: 0.3982541024845053,\n",
       " 0.45862068965517244: 0.3981337732065463,\n",
       " 0.4862068965517242: 0.39804665656878235,\n",
       " 0.5137931034482759: 0.39761433585165584,\n",
       " 0.5413793103448277: 0.3974366735088076,\n",
       " 0.5689655172413793: 0.39731354031074306,\n",
       " 0.5965517241379311: 0.3969763105302327,\n",
       " 0.6241379310344828: 0.39680446275240483,\n",
       " 0.6517241379310346: 0.3964149221943207,\n",
       " 0.6793103448275862: 0.39619696405369054,\n",
       " 0.706896551724138: 0.3957317823644071,\n",
       " 0.7344827586206897: 0.3955858364027276,\n",
       " 0.7620689655172415: 0.39515857439816054,\n",
       " 0.7896551724137931: 0.3943058749188183,\n",
       " 0.8172413793103449: 0.39353114045958293,\n",
       " 0.8448275862068966: 0.3929258687764744,\n",
       " 0.8724137931034484: 0.39214718312402924,\n",
       " 0.9: 0.3908507565462733}"
      ]
     },
     "execution_count": 16,
     "metadata": {},
     "output_type": "execute_result"
    }
   ],
   "source": [
    "threshold = np.linspace(.1,.9,30)\n",
    "dict_thresholdf1 = dict()\n",
    "\n",
    "for i in threshold:\n",
    "    test = copy.deepcopy(probs)\n",
    "    conditions = [\n",
    "    (test.score > i),\n",
    "    (test.score < i)\n",
    "    ]\n",
    "    choices = [1,0]\n",
    "    test.score = np.select(conditions, choices)\n",
    "    dict_thresholdf1[i] = f1_score(y_val,test)\n",
    "\n",
    "dict_thresholdf1"
   ]
  },
  {
   "cell_type": "code",
   "execution_count": null,
   "metadata": {},
   "outputs": [],
   "source": []
  }
 ],
 "metadata": {
  "kernelspec": {
   "display_name": "Python 3",
   "language": "python",
   "name": "python3"
  },
  "language_info": {
   "codemirror_mode": {
    "name": "ipython",
    "version": 3
   },
   "file_extension": ".py",
   "mimetype": "text/x-python",
   "name": "python",
   "nbconvert_exporter": "python",
   "pygments_lexer": "ipython3",
   "version": "3.7.2"
  }
 },
 "nbformat": 4,
 "nbformat_minor": 2
}
