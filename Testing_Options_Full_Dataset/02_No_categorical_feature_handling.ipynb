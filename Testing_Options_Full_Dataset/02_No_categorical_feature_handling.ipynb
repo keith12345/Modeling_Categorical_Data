{
 "cells": [
  {
   "cell_type": "code",
   "execution_count": 1,
   "metadata": {},
   "outputs": [],
   "source": [
    "import os\n",
    "\n",
    "from collections import defaultdict\n",
    "\n",
    "import pandas as pd\n",
    "import numpy as np\n",
    "\n",
    "import matplotlib.pyplot as plt\n",
    "\n",
    "from Standard_functions import get_user_split_data, plot_fit_score_pred,fit_score_pred_G_NB\n",
    "from sklearn.naive_bayes import GaussianNB\n",
    "from sklearn.metrics import roc_auc_score\n",
    "from sklearn.metrics import roc_curve, f1_score\n",
    "import copy\n",
    "\n",
    "import warnings\n",
    "\n",
    "warnings.filterwarnings('always') "
   ]
  },
  {
   "cell_type": "code",
   "execution_count": 2,
   "metadata": {},
   "outputs": [],
   "source": [
    "os.chdir('../Data/')"
   ]
  },
  {
   "cell_type": "markdown",
   "metadata": {},
   "source": [
    "# No categorical feature handling"
   ]
  },
  {
   "cell_type": "code",
   "execution_count": 3,
   "metadata": {},
   "outputs": [],
   "source": [
    "df = pd.read_pickle('full_features')\n",
    "df.drop('max_order_number',inplace=True,axis=1)"
   ]
  },
  {
   "cell_type": "code",
   "execution_count": 4,
   "metadata": {},
   "outputs": [
    {
     "name": "stdout",
     "output_type": "stream",
     "text": [
      "Gaussian Naive Bayes:\n",
      "Our f1-score is 0.39999024929307375\n",
      "And we've predicted 1493783 non-re-orders and 201951 re-orders.\n"
     ]
    }
   ],
   "source": [
    "X_tr, X_val, y_tr, y_val = get_user_split_data(df, val_size=.2, seed=42)\n",
    "print('Gaussian Naive Bayes:')\n",
    "fit_score_pred_G_NB(X_tr, X_val, y_tr, y_val)"
   ]
  },
  {
   "cell_type": "markdown",
   "metadata": {},
   "source": [
    "## ROC AUC"
   ]
  },
  {
   "cell_type": "code",
   "execution_count": 5,
   "metadata": {},
   "outputs": [],
   "source": [
    "X_tr, X_val, y_tr, y_val = get_user_split_data(df)"
   ]
  },
  {
   "cell_type": "code",
   "execution_count": 6,
   "metadata": {},
   "outputs": [],
   "source": [
    "clf = GaussianNB(var_smoothing=1e-9)\n",
    "clf.fit(X_tr, y_tr)\n",
    "probabilities = clf.predict_proba(X_val)[:,1]\n"
   ]
  },
  {
   "cell_type": "code",
   "execution_count": 7,
   "metadata": {},
   "outputs": [],
   "source": [
    "fpr, tpr, thresholds = roc_curve(y_val,probabilities)"
   ]
  },
  {
   "cell_type": "code",
   "execution_count": 8,
   "metadata": {},
   "outputs": [
    {
     "name": "stdout",
     "output_type": "stream",
     "text": [
      "ROC AUC score =  0.7958724861292538\n"
     ]
    },
    {
     "data": {
      "image/png": "[encoded data removed]",
      "text/plain": [
       "<Figure size 432x288 with 1 Axes>"
      ]
     },
     "metadata": {
      "needs_background": "light"
     },
     "output_type": "display_data"
    }
   ],
   "source": [
    "plt.plot(fpr, tpr,lw=2)\n",
    "plt.plot([0,1],[0,1],c='violet',ls='--')\n",
    "plt.xlim([-0.05,1.05])\n",
    "plt.ylim([-0.05,1.05])\n",
    "\n",
    "plt.xlabel('False positive rate')\n",
    "plt.ylabel('True positive rate')\n",
    "plt.title('Mah Curve');\n",
    "print(\"ROC AUC score = \", roc_auc_score(y_val, probabilities))"
   ]
  },
  {
   "cell_type": "markdown",
   "metadata": {},
   "source": [
    "## Messing with thresholds"
   ]
  },
  {
   "cell_type": "code",
   "execution_count": 9,
   "metadata": {},
   "outputs": [],
   "source": [
    "X_tr, X_val, y_tr, y_val = get_user_split_data(df)"
   ]
  },
  {
   "cell_type": "code",
   "execution_count": 10,
   "metadata": {},
   "outputs": [],
   "source": [
    "clf = GaussianNB(var_smoothing=1e-9)\n",
    "clf.fit(X_tr, y_tr)\n",
    "probabilities = clf.predict_proba(X_val)[:,1]\n"
   ]
  },
  {
   "cell_type": "code",
   "execution_count": 11,
   "metadata": {},
   "outputs": [
    {
     "data": {
      "text/plain": [
       "0.7958724861292538"
      ]
     },
     "execution_count": 11,
     "metadata": {},
     "output_type": "execute_result"
    }
   ],
   "source": [
    "roc_auc_score(y_val,probabilities)"
   ]
  },
  {
   "cell_type": "code",
   "execution_count": 12,
   "metadata": {},
   "outputs": [],
   "source": [
    "fpr, tpr, thresholds = roc_curve(y_val,probabilities)"
   ]
  },
  {
   "cell_type": "code",
   "execution_count": 13,
   "metadata": {},
   "outputs": [],
   "source": [
    "probs = pd.DataFrame(probabilities)\n",
    "probs.columns = ['score']\n",
    "test = copy.deepcopy(probs)"
   ]
  },
  {
   "cell_type": "code",
   "execution_count": 14,
   "metadata": {},
   "outputs": [
    {
     "data": {
      "text/plain": [
       "{0.1: 0.39651259627061497,\n",
       " 0.12051282051282051: 0.3982961136723732,\n",
       " 0.14102564102564102: 0.3995977551534677,\n",
       " 0.16153846153846155: 0.4001599739443636,\n",
       " 0.18205128205128207: 0.4004352927173488,\n",
       " 0.20256410256410257: 0.4007314537397293,\n",
       " 0.2230769230769231: 0.4008961904454374,\n",
       " 0.24358974358974358: 0.401061244755841,\n",
       " 0.2641025641025641: 0.40106927528021685,\n",
       " 0.2846153846153846: 0.40104179939755047,\n",
       " 0.30512820512820515: 0.40106693776538666,\n",
       " 0.32564102564102565: 0.4012232068077715,\n",
       " 0.34615384615384615: 0.40109562815233707,\n",
       " 0.3666666666666667: 0.4008468078536457,\n",
       " 0.38717948717948714: 0.4006411690543809,\n",
       " 0.4076923076923077: 0.4005452476112332,\n",
       " 0.42820512820512824: 0.4005269110504956,\n",
       " 0.4487179487179487: 0.4004119574667291,\n",
       " 0.46923076923076923: 0.40020757598571705,\n",
       " 0.4897435897435898: 0.39996325555759693,\n",
       " 0.5102564102564102: 0.3997817121478276,\n",
       " 0.5307692307692308: 0.3997511955979081,\n",
       " 0.5512820512820513: 0.39948798351021847,\n",
       " 0.5717948717948718: 0.3994271944922548,\n",
       " 0.5923076923076923: 0.3992584804382713,\n",
       " 0.6128205128205128: 0.39911615108813475,\n",
       " 0.6333333333333333: 0.3989108883241643,\n",
       " 0.6538461538461539: 0.3986790012261607,\n",
       " 0.6743589743589743: 0.3984753183703274,\n",
       " 0.6948717948717948: 0.39807891195013106,\n",
       " 0.7153846153846154: 0.3976721077162682,\n",
       " 0.7358974358974358: 0.3971750539406738,\n",
       " 0.7564102564102564: 0.3967255567704437,\n",
       " 0.7769230769230769: 0.39618552733985085,\n",
       " 0.7974358974358974: 0.39582484369360454,\n",
       " 0.8179487179487179: 0.3952021459152059,\n",
       " 0.8384615384615385: 0.3945312269652851,\n",
       " 0.8589743589743589: 0.39387047352106325,\n",
       " 0.8794871794871795: 0.3930127867439299,\n",
       " 0.9: 0.39215733663635544}"
      ]
     },
     "execution_count": 14,
     "metadata": {},
     "output_type": "execute_result"
    }
   ],
   "source": [
    "threshold = np.linspace(.1,.9,40)\n",
    "dict_thresholdf1 = dict()\n",
    "\n",
    "for i in threshold:\n",
    "    test = copy.deepcopy(probs)\n",
    "    conditions = [\n",
    "    (test.score > i),\n",
    "    (test.score < i)\n",
    "    ]\n",
    "    choices = [1,0]\n",
    "    test.score = np.select(conditions, choices)\n",
    "    dict_thresholdf1[i] = f1_score(y_val,test)\n",
    "\n",
    "dict_thresholdf1"
   ]
  }
 ],
 "metadata": {
  "kernelspec": {
   "display_name": "Python 3",
   "language": "python",
   "name": "python3"
  },
  "language_info": {
   "codemirror_mode": {
    "name": "ipython",
    "version": 3
   },
   "file_extension": ".py",
   "mimetype": "text/x-python",
   "name": "python",
   "nbconvert_exporter": "python",
   "pygments_lexer": "ipython3",
   "version": "3.7.2"
  }
 },
 "nbformat": 4,
 "nbformat_minor": 2
}
