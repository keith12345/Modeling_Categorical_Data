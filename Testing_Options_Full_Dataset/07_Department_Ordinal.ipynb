{
 "cells": [
  {
   "cell_type": "code",
   "execution_count": 1,
   "metadata": {},
   "outputs": [],
   "source": [
    "import os\n",
    "\n",
    "from collections import defaultdict\n",
    "\n",
    "import pandas as pd\n",
    "import numpy as np\n",
    "\n",
    "import matplotlib.pyplot as plt\n",
    "\n",
    "from Standard_functions import get_user_split_data, plot_fit_score_pred,fit_score_pred_G_NB\n",
    "from sklearn.naive_bayes import GaussianNB\n",
    "from sklearn.metrics import roc_auc_score\n",
    "from sklearn.metrics import roc_curve, f1_score\n",
    "import copy\n",
    "\n",
    "import warnings\n",
    "\n",
    "warnings.filterwarnings('always') "
   ]
  },
  {
   "cell_type": "code",
   "execution_count": 2,
   "metadata": {},
   "outputs": [],
   "source": [
    "os.chdir('../Data/')"
   ]
  },
  {
   "cell_type": "markdown",
   "metadata": {},
   "source": [
    "## Department Ordinal values"
   ]
  },
  {
   "cell_type": "code",
   "execution_count": 3,
   "metadata": {},
   "outputs": [],
   "source": [
    "df = pd.read_pickle('full_features')\n",
    "df.drop('max_order_number',axis=1,inplace=True)\n",
    "ord_prod_prior_df = pd.read_csv('order_products__prior.csv')\n",
    "products = pd.read_csv('products.csv')\n",
    "products.drop(['aisle_id','product_name'],axis=1,inplace=True)\n",
    "ord_prod_prior_df = ord_prod_prior_df.merge(products,on='product_id')"
   ]
  },
  {
   "cell_type": "code",
   "execution_count": 4,
   "metadata": {},
   "outputs": [],
   "source": [
    "reordered_by_department = ord_prod_prior_df.groupby('department_id',as_index=False)['reordered'].sum()\n",
    "reordered_by_department.columns = ['department_id','reordered_by_department']"
   ]
  },
  {
   "cell_type": "code",
   "execution_count": 5,
   "metadata": {},
   "outputs": [],
   "source": [
    "ordinal_by_department = (reordered_by_department.sort_values('reordered_by_department')\n",
    "                    .reset_index(drop=True).reset_index())\n",
    "ordinal_by_department.drop('reordered_by_department',axis=1,inplace=True)\n",
    "ordinal_by_department.columns = ['ordinal_by_department','department_id']"
   ]
  },
  {
   "cell_type": "code",
   "execution_count": 6,
   "metadata": {},
   "outputs": [],
   "source": [
    "ordinal_by_department = ordinal_by_department.merge(products,on='department_id')"
   ]
  },
  {
   "cell_type": "code",
   "execution_count": 7,
   "metadata": {},
   "outputs": [],
   "source": [
    "ordinal_by_department.drop('department_id',inplace=True,axis=1)"
   ]
  },
  {
   "cell_type": "code",
   "execution_count": 8,
   "metadata": {},
   "outputs": [],
   "source": [
    "df = df.merge(ordinal_by_department,on='product_id')"
   ]
  },
  {
   "cell_type": "code",
   "execution_count": 9,
   "metadata": {},
   "outputs": [
    {
     "name": "stdout",
     "output_type": "stream",
     "text": [
      "Gaussian Naive Bayes:\n",
      "Our f1-score is 0.4004355842111505\n",
      "And we've predicted 1491923 non-re-orders and 203756 re-orders.\n"
     ]
    }
   ],
   "source": [
    "X_tr, X_val, y_tr, y_val = get_user_split_data(df, val_size=.2, seed=42)\n",
    "print('Gaussian Naive Bayes:')\n",
    "fit_score_pred_G_NB(X_tr, X_val, y_tr, y_val)"
   ]
  },
  {
   "cell_type": "markdown",
   "metadata": {},
   "source": [
    "## ROC AUC"
   ]
  },
  {
   "cell_type": "code",
   "execution_count": 10,
   "metadata": {},
   "outputs": [],
   "source": [
    "X_tr, X_val, y_tr, y_val = get_user_split_data(df)"
   ]
  },
  {
   "cell_type": "code",
   "execution_count": 11,
   "metadata": {},
   "outputs": [],
   "source": [
    "clf = GaussianNB(var_smoothing=1e-9)\n",
    "clf.fit(X_tr, y_tr)\n",
    "probabilities = clf.predict_proba(X_val)[:,1]\n"
   ]
  },
  {
   "cell_type": "code",
   "execution_count": 12,
   "metadata": {},
   "outputs": [],
   "source": [
    "fpr, tpr, thresholds = roc_curve(y_val,probabilities)"
   ]
  },
  {
   "cell_type": "code",
   "execution_count": 13,
   "metadata": {},
   "outputs": [
    {
     "name": "stdout",
     "output_type": "stream",
     "text": [
      "ROC AUC score =  0.7960081362603056\n"
     ]
    },
    {
     "data": {
      "image/png": "[encoded data removed]",
      "text/plain": [
       "<Figure size 432x288 with 1 Axes>"
      ]
     },
     "metadata": {
      "needs_background": "light"
     },
     "output_type": "display_data"
    }
   ],
   "source": [
    "plt.plot(fpr, tpr,lw=2)\n",
    "plt.plot([0,1],[0,1],c='violet',ls='--')\n",
    "plt.xlim([-0.05,1.05])\n",
    "plt.ylim([-0.05,1.05])\n",
    "\n",
    "plt.xlabel('False positive rate')\n",
    "plt.ylabel('True positive rate')\n",
    "plt.title('Mah Curve');\n",
    "print(\"ROC AUC score = \", roc_auc_score(y_val, probabilities))"
   ]
  },
  {
   "cell_type": "markdown",
   "metadata": {},
   "source": [
    "## Messing with thresholds"
   ]
  },
  {
   "cell_type": "code",
   "execution_count": 14,
   "metadata": {},
   "outputs": [],
   "source": [
    "X_tr, X_val, y_tr, y_val = get_user_split_data(df)"
   ]
  },
  {
   "cell_type": "code",
   "execution_count": 15,
   "metadata": {},
   "outputs": [],
   "source": [
    "clf = GaussianNB(var_smoothing=1e-9)\n",
    "clf.fit(X_tr, y_tr)\n",
    "probabilities = clf.predict_proba(X_val)[:,1]\n"
   ]
  },
  {
   "cell_type": "code",
   "execution_count": 16,
   "metadata": {},
   "outputs": [
    {
     "data": {
      "text/plain": [
       "0.7960081362603056"
      ]
     },
     "execution_count": 16,
     "metadata": {},
     "output_type": "execute_result"
    }
   ],
   "source": [
    "roc_auc_score(y_val,probabilities)"
   ]
  },
  {
   "cell_type": "code",
   "execution_count": 17,
   "metadata": {},
   "outputs": [],
   "source": [
    "fpr, tpr, thresholds = roc_curve(y_val,probabilities)"
   ]
  },
  {
   "cell_type": "code",
   "execution_count": 18,
   "metadata": {},
   "outputs": [],
   "source": [
    "probs = pd.DataFrame(probabilities)\n",
    "probs.columns = ['score']\n",
    "test = copy.deepcopy(probs)"
   ]
  },
  {
   "cell_type": "code",
   "execution_count": 19,
   "metadata": {},
   "outputs": [
    {
     "data": {
      "text/plain": [
       "{0.1: 0.39544848179657754,\n",
       " 0.12051282051282051: 0.3978567710168517,\n",
       " 0.14102564102564102: 0.3990877728080045,\n",
       " 0.16153846153846155: 0.40005019450370183,\n",
       " 0.18205128205128207: 0.4005778096112524,\n",
       " 0.20256410256410257: 0.40108892038121957,\n",
       " 0.2230769230769231: 0.40124124173429054,\n",
       " 0.24358974358974358: 0.4013690043875795,\n",
       " 0.2641025641025641: 0.40150828578099224,\n",
       " 0.2846153846153846: 0.4014893412373378,\n",
       " 0.30512820512820515: 0.4015791406536907,\n",
       " 0.32564102564102565: 0.401531827019641,\n",
       " 0.34615384615384615: 0.4013353019814909,\n",
       " 0.3666666666666667: 0.4013428757319453,\n",
       " 0.38717948717948714: 0.40127148378177396,\n",
       " 0.4076923076923077: 0.4009638046583892,\n",
       " 0.42820512820512824: 0.40083979328165376,\n",
       " 0.4487179487179487: 0.4005301792282592,\n",
       " 0.46923076923076923: 0.40048584599003156,\n",
       " 0.4897435897435898: 0.4006011302108258,\n",
       " 0.5102564102564102: 0.40039342738481576,\n",
       " 0.5307692307692308: 0.40008906557181184,\n",
       " 0.5512820512820513: 0.3998842987384742,\n",
       " 0.5717948717948718: 0.3996972987201,\n",
       " 0.5923076923076923: 0.39964734891793974,\n",
       " 0.6128205128205128: 0.3993366813024966,\n",
       " 0.6333333333333333: 0.3990777206684022,\n",
       " 0.6538461538461539: 0.39890117874568937,\n",
       " 0.6743589743589743: 0.39877343681992156,\n",
       " 0.6948717948717948: 0.3984330239082393,\n",
       " 0.7153846153846154: 0.3981935879179172,\n",
       " 0.7358974358974358: 0.39767315863012914,\n",
       " 0.7564102564102564: 0.3972418934029073,\n",
       " 0.7769230769230769: 0.39681748079390017,\n",
       " 0.7974358974358974: 0.396191072681617,\n",
       " 0.8179487179487179: 0.39541567342508604,\n",
       " 0.8384615384615385: 0.39503699046298313,\n",
       " 0.8589743589743589: 0.3944726592558393,\n",
       " 0.8794871794871795: 0.3936897897790351,\n",
       " 0.9: 0.39259239177909705}"
      ]
     },
     "execution_count": 19,
     "metadata": {},
     "output_type": "execute_result"
    }
   ],
   "source": [
    "threshold = np.linspace(.1,.9,40)\n",
    "dict_thresholdf1 = dict()\n",
    "\n",
    "for i in threshold:\n",
    "    test = copy.deepcopy(probs)\n",
    "    conditions = [\n",
    "    (test.score > i),\n",
    "    (test.score < i)\n",
    "    ]\n",
    "    choices = [1,0]\n",
    "    test.score = np.select(conditions, choices)\n",
    "    dict_thresholdf1[i] = f1_score(y_val,test)\n",
    "\n",
    "dict_thresholdf1"
   ]
  },
  {
   "cell_type": "code",
   "execution_count": null,
   "metadata": {},
   "outputs": [],
   "source": []
  }
 ],
 "metadata": {
  "kernelspec": {
   "display_name": "Python 3",
   "language": "python",
   "name": "python3"
  },
  "language_info": {
   "codemirror_mode": {
    "name": "ipython",
    "version": 3
   },
   "file_extension": ".py",
   "mimetype": "text/x-python",
   "name": "python",
   "nbconvert_exporter": "python",
   "pygments_lexer": "ipython3",
   "version": "3.7.2"
  }
 },
 "nbformat": 4,
 "nbformat_minor": 2
}
