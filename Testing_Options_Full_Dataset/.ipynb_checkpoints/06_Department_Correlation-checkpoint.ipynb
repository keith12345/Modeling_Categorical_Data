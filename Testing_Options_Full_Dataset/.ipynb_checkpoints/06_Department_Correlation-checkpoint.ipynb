{
 "cells": [
  {
   "cell_type": "code",
   "execution_count": 1,
   "metadata": {},
   "outputs": [],
   "source": [
    "import os\n",
    "\n",
    "from collections import defaultdict\n",
    "\n",
    "import pandas as pd\n",
    "import numpy as np\n",
    "\n",
    "import matplotlib.pyplot as plt\n",
    "\n",
    "from Standard_functions import get_user_split_data, plot_fit_score_pred,fit_score_pred_G_NB\n",
    "from sklearn.naive_bayes import GaussianNB\n",
    "from sklearn.metrics import roc_auc_score\n",
    "from sklearn.metrics import roc_curve, f1_score\n",
    "import copy\n",
    "\n",
    "import warnings\n",
    "\n",
    "warnings.filterwarnings('always') "
   ]
  },
  {
   "cell_type": "code",
   "execution_count": 2,
   "metadata": {},
   "outputs": [],
   "source": [
    "os.chdir('Data/')"
   ]
  },
  {
   "cell_type": "markdown",
   "metadata": {},
   "source": [
    "# No categorical feature handling"
   ]
  },
  {
   "cell_type": "code",
   "execution_count": 27,
   "metadata": {},
   "outputs": [],
   "source": [
    "df = pd.read_pickle('full_features')\n",
    "df.drop('max_order_number',inplace=True,axis=1)"
   ]
  },
  {
   "cell_type": "code",
   "execution_count": 28,
   "metadata": {},
   "outputs": [
    {
     "name": "stdout",
     "output_type": "stream",
     "text": [
      "Gaussian Naive Bayes:\n",
      "Our f1-score is 0.39999024929307375\n",
      "And we've predicted 1493783 non-re-orders and 201951 re-orders.\n"
     ]
    }
   ],
   "source": [
    "X_tr, X_val, y_tr, y_val = get_user_split_data(df, val_size=.2, seed=42)\n",
    "print('Gaussian Naive Bayes:')\n",
    "fit_score_pred_G_NB(X_tr, X_val, y_tr, y_val)"
   ]
  },
  {
   "cell_type": "markdown",
   "metadata": {},
   "source": [
    "## ROC AUC"
   ]
  },
  {
   "cell_type": "code",
   "execution_count": 29,
   "metadata": {},
   "outputs": [],
   "source": [
    "X_tr, X_val, y_tr, y_val = get_user_split_data(df)"
   ]
  },
  {
   "cell_type": "code",
   "execution_count": 30,
   "metadata": {},
   "outputs": [],
   "source": [
    "clf = GaussianNB(var_smoothing=1e-9)\n",
    "clf.fit(X_tr, y_tr)\n",
    "probabilities = clf.predict_proba(X_val)[:,1]\n"
   ]
  },
  {
   "cell_type": "code",
   "execution_count": 31,
   "metadata": {},
   "outputs": [],
   "source": [
    "fpr, tpr, thresholds = roc_curve(y_val,probabilities)"
   ]
  },
  {
   "cell_type": "code",
   "execution_count": 32,
   "metadata": {},
   "outputs": [
    {
     "name": "stdout",
     "output_type": "stream",
     "text": [
      "ROC AUC score =  0.7958724861292538\n"
     ]
    },
    {
     "data": {
      "image/png": "[encoded data removed]",
      "text/plain": [
       "<Figure size 432x288 with 1 Axes>"
      ]
     },
     "metadata": {
      "needs_background": "light"
     },
     "output_type": "display_data"
    }
   ],
   "source": [
    "plt.plot(fpr, tpr,lw=2)\n",
    "plt.plot([0,1],[0,1],c='violet',ls='--')\n",
    "plt.xlim([-0.05,1.05])\n",
    "plt.ylim([-0.05,1.05])\n",
    "\n",
    "plt.xlabel('False positive rate')\n",
    "plt.ylabel('True positive rate')\n",
    "plt.title('Mah Curve');\n",
    "print(\"ROC AUC score = \", roc_auc_score(y_val, probabilities))"
   ]
  },
  {
   "cell_type": "markdown",
   "metadata": {},
   "source": [
    "## Messing with thresholds"
   ]
  },
  {
   "cell_type": "code",
   "execution_count": 33,
   "metadata": {},
   "outputs": [],
   "source": [
    "X_tr, X_val, y_tr, y_val = get_user_split_data(df)"
   ]
  },
  {
   "cell_type": "code",
   "execution_count": 34,
   "metadata": {},
   "outputs": [],
   "source": [
    "clf = GaussianNB(var_smoothing=1e-9)\n",
    "clf.fit(X_tr, y_tr)\n",
    "probabilities = clf.predict_proba(X_val)[:,1]\n"
   ]
  },
  {
   "cell_type": "code",
   "execution_count": 35,
   "metadata": {},
   "outputs": [
    {
     "data": {
      "text/plain": [
       "0.7958724861292538"
      ]
     },
     "execution_count": 35,
     "metadata": {},
     "output_type": "execute_result"
    }
   ],
   "source": [
    "roc_auc_score(y_val,probabilities)"
   ]
  },
  {
   "cell_type": "code",
   "execution_count": 36,
   "metadata": {},
   "outputs": [],
   "source": [
    "fpr, tpr, thresholds = roc_curve(y_val,probabilities)"
   ]
  },
  {
   "cell_type": "code",
   "execution_count": 37,
   "metadata": {},
   "outputs": [],
   "source": [
    "probs = pd.DataFrame(probabilities)\n",
    "probs.columns = ['score']\n",
    "test = copy.deepcopy(probs)"
   ]
  },
  {
   "cell_type": "code",
   "execution_count": 38,
   "metadata": {},
   "outputs": [
    {
     "data": {
      "text/plain": [
       "{0.1: 0.39651259627061497,\n",
       " 0.12051282051282051: 0.3982961136723732,\n",
       " 0.14102564102564102: 0.3995977551534677,\n",
       " 0.16153846153846155: 0.4001599739443636,\n",
       " 0.18205128205128207: 0.4004352927173488,\n",
       " 0.20256410256410257: 0.4007314537397293,\n",
       " 0.2230769230769231: 0.4008961904454374,\n",
       " 0.24358974358974358: 0.401061244755841,\n",
       " 0.2641025641025641: 0.40106927528021685,\n",
       " 0.2846153846153846: 0.40104179939755047,\n",
       " 0.30512820512820515: 0.40106693776538666,\n",
       " 0.32564102564102565: 0.4012232068077715,\n",
       " 0.34615384615384615: 0.40109562815233707,\n",
       " 0.3666666666666667: 0.4008468078536457,\n",
       " 0.38717948717948714: 0.4006411690543809,\n",
       " 0.4076923076923077: 0.4005452476112332,\n",
       " 0.42820512820512824: 0.4005269110504956,\n",
       " 0.4487179487179487: 0.4004119574667291,\n",
       " 0.46923076923076923: 0.40020757598571705,\n",
       " 0.4897435897435898: 0.39996325555759693,\n",
       " 0.5102564102564102: 0.3997817121478276,\n",
       " 0.5307692307692308: 0.3997511955979081,\n",
       " 0.5512820512820513: 0.39948798351021847,\n",
       " 0.5717948717948718: 0.3994271944922548,\n",
       " 0.5923076923076923: 0.3992584804382713,\n",
       " 0.6128205128205128: 0.39911615108813475,\n",
       " 0.6333333333333333: 0.3989108883241643,\n",
       " 0.6538461538461539: 0.3986790012261607,\n",
       " 0.6743589743589743: 0.3984753183703274,\n",
       " 0.6948717948717948: 0.39807891195013106,\n",
       " 0.7153846153846154: 0.3976721077162682,\n",
       " 0.7358974358974358: 0.3971750539406738,\n",
       " 0.7564102564102564: 0.3967255567704437,\n",
       " 0.7769230769230769: 0.39618552733985085,\n",
       " 0.7974358974358974: 0.39582484369360454,\n",
       " 0.8179487179487179: 0.3952021459152059,\n",
       " 0.8384615384615385: 0.3945312269652851,\n",
       " 0.8589743589743589: 0.39387047352106325,\n",
       " 0.8794871794871795: 0.3930127867439299,\n",
       " 0.9: 0.39215733663635544}"
      ]
     },
     "execution_count": 38,
     "metadata": {},
     "output_type": "execute_result"
    }
   ],
   "source": [
    "threshold = np.linspace(.1,.9,40)\n",
    "dict_thresholdf1 = dict()\n",
    "\n",
    "for i in threshold:\n",
    "    test = copy.deepcopy(probs)\n",
    "    conditions = [\n",
    "    (test.score > i),\n",
    "    (test.score < i)\n",
    "    ]\n",
    "    choices = [1,0]\n",
    "    test.score = np.select(conditions, choices)\n",
    "    dict_thresholdf1[i] = f1_score(y_val,test)\n",
    "\n",
    "dict_thresholdf1"
   ]
  },
  {
   "cell_type": "markdown",
   "metadata": {},
   "source": [
    "# Old new categorical feature handling\n",
    "Combining dummies for most and least correlating features."
   ]
  },
  {
   "cell_type": "code",
   "execution_count": 3,
   "metadata": {},
   "outputs": [],
   "source": [
    "df = pd.read_pickle('full_features_with_dep')"
   ]
  },
  {
   "cell_type": "code",
   "execution_count": 4,
   "metadata": {},
   "outputs": [
    {
     "name": "stdout",
     "output_type": "stream",
     "text": [
      "Gaussian Naive Bayes:\n",
      "Our f1-score is 0.40140522135135276\n",
      "And we've predicted 1483477 non-re-orders and 212202 re-orders.\n"
     ]
    }
   ],
   "source": [
    "X_tr, X_val, y_tr, y_val = get_user_split_data(df, val_size=.2, seed=42)\n",
    "print('Gaussian Naive Bayes:')\n",
    "fit_score_pred_G_NB(X_tr, X_val, y_tr, y_val)"
   ]
  },
  {
   "cell_type": "markdown",
   "metadata": {},
   "source": [
    "## ROC AUC"
   ]
  },
  {
   "cell_type": "code",
   "execution_count": 5,
   "metadata": {},
   "outputs": [],
   "source": [
    "X_tr, X_val, y_tr, y_val = get_user_split_data(df)"
   ]
  },
  {
   "cell_type": "code",
   "execution_count": 6,
   "metadata": {},
   "outputs": [],
   "source": [
    "clf = GaussianNB(var_smoothing=1e-9)\n",
    "clf.fit(X_tr, y_tr)\n",
    "probabilities = clf.predict_proba(X_val)[:,1]\n"
   ]
  },
  {
   "cell_type": "code",
   "execution_count": 7,
   "metadata": {},
   "outputs": [],
   "source": [
    "fpr, tpr, thresholds = roc_curve(y_val,probabilities)"
   ]
  },
  {
   "cell_type": "code",
   "execution_count": 8,
   "metadata": {},
   "outputs": [
    {
     "name": "stdout",
     "output_type": "stream",
     "text": [
      "ROC AUC score =  0.7950174703006965\n"
     ]
    },
    {
     "data": {
      "image/png": "[encoded data removed]",
      "text/plain": [
       "<Figure size 432x288 with 1 Axes>"
      ]
     },
     "metadata": {
      "needs_background": "light"
     },
     "output_type": "display_data"
    }
   ],
   "source": [
    "plt.plot(fpr, tpr,lw=2)\n",
    "plt.plot([0,1],[0,1],c='violet',ls='--')\n",
    "plt.xlim([-0.05,1.05])\n",
    "plt.ylim([-0.05,1.05])\n",
    "\n",
    "plt.xlabel('False positive rate')\n",
    "plt.ylabel('True positive rate')\n",
    "plt.title('Mah Curve');\n",
    "print(\"ROC AUC score = \", roc_auc_score(y_val, probabilities))"
   ]
  },
  {
   "cell_type": "markdown",
   "metadata": {},
   "source": [
    "## Messing with thresholds"
   ]
  },
  {
   "cell_type": "code",
   "execution_count": 9,
   "metadata": {},
   "outputs": [],
   "source": [
    "X_tr, X_val, y_tr, y_val = get_user_split_data(df)"
   ]
  },
  {
   "cell_type": "code",
   "execution_count": 10,
   "metadata": {},
   "outputs": [],
   "source": [
    "clf = GaussianNB(var_smoothing=1e-9)\n",
    "clf.fit(X_tr, y_tr)\n",
    "probabilities = clf.predict_proba(X_val)[:,1]\n"
   ]
  },
  {
   "cell_type": "code",
   "execution_count": 11,
   "metadata": {},
   "outputs": [
    {
     "data": {
      "text/plain": [
       "0.7950174703006965"
      ]
     },
     "execution_count": 11,
     "metadata": {},
     "output_type": "execute_result"
    }
   ],
   "source": [
    "roc_auc_score(y_val,probabilities)"
   ]
  },
  {
   "cell_type": "code",
   "execution_count": 12,
   "metadata": {},
   "outputs": [],
   "source": [
    "fpr, tpr, thresholds = roc_curve(y_val,probabilities)"
   ]
  },
  {
   "cell_type": "code",
   "execution_count": 13,
   "metadata": {},
   "outputs": [],
   "source": [
    "probs = pd.DataFrame(probabilities)\n",
    "probs.columns = ['score']\n",
    "test = copy.deepcopy(probs)"
   ]
  },
  {
   "cell_type": "code",
   "execution_count": 14,
   "metadata": {},
   "outputs": [
    {
     "data": {
      "text/plain": [
       "{0.1: 0.3886742395238579,\n",
       " 0.12051282051282051: 0.3920549789284597,\n",
       " 0.14102564102564102: 0.394679821632071,\n",
       " 0.16153846153846155: 0.39653065549598454,\n",
       " 0.18205128205128207: 0.3980830993875291,\n",
       " 0.20256410256410257: 0.39870655942472244,\n",
       " 0.2230769230769231: 0.39943153556455624,\n",
       " 0.24358974358974358: 0.39999616264623916,\n",
       " 0.2641025641025641: 0.4005878372971125,\n",
       " 0.2846153846153846: 0.4010022484459271,\n",
       " 0.30512820512820515: 0.40136074603692606,\n",
       " 0.32564102564102565: 0.40157562763331756,\n",
       " 0.34615384615384615: 0.4016110269417372,\n",
       " 0.3666666666666667: 0.4017333286085279,\n",
       " 0.38717948717948714: 0.4017520019783957,\n",
       " 0.4076923076923077: 0.4017369300377515,\n",
       " 0.42820512820512824: 0.4016870401124005,\n",
       " 0.4487179487179487: 0.4016575518634468,\n",
       " 0.46923076923076923: 0.40142994522724423,\n",
       " 0.4897435897435898: 0.4013222897265026,\n",
       " 0.5102564102564102: 0.4014502864632883,\n",
       " 0.5307692307692308: 0.4013888077186681,\n",
       " 0.5512820512820513: 0.40113431847433095,\n",
       " 0.5717948717948718: 0.400898652021967,\n",
       " 0.5923076923076923: 0.4004770474861918,\n",
       " 0.6128205128205128: 0.400440485619121,\n",
       " 0.6333333333333333: 0.4002584881171813,\n",
       " 0.6538461538461539: 0.3999890356888328,\n",
       " 0.6743589743589743: 0.39969690707446437,\n",
       " 0.6948717948717948: 0.39934836453906214,\n",
       " 0.7153846153846154: 0.39914652048322985,\n",
       " 0.7358974358974358: 0.3989398808206398,\n",
       " 0.7564102564102564: 0.3984840800225416,\n",
       " 0.7769230769230769: 0.39825642362784053,\n",
       " 0.7974358974358974: 0.3978658666993649,\n",
       " 0.8179487179487179: 0.397517738639234,\n",
       " 0.8384615384615385: 0.39691271481636725,\n",
       " 0.8589743589743589: 0.39629696500230066,\n",
       " 0.8794871794871795: 0.3953411861469318,\n",
       " 0.9: 0.39436678217116816}"
      ]
     },
     "execution_count": 14,
     "metadata": {},
     "output_type": "execute_result"
    }
   ],
   "source": [
    "threshold = np.linspace(.1,.9,40)\n",
    "dict_thresholdf1 = dict()\n",
    "\n",
    "for i in threshold:\n",
    "    test = copy.deepcopy(probs)\n",
    "    conditions = [\n",
    "    (test.score > i),\n",
    "    (test.score < i)\n",
    "    ]\n",
    "    choices = [1,0]\n",
    "    test.score = np.select(conditions, choices)\n",
    "    dict_thresholdf1[i] = f1_score(y_val,test)\n",
    "\n",
    "dict_thresholdf1"
   ]
  },
  {
   "cell_type": "markdown",
   "metadata": {},
   "source": [
    "## With new categorical feature handling"
   ]
  },
  {
   "cell_type": "code",
   "execution_count": 15,
   "metadata": {},
   "outputs": [],
   "source": [
    "df = pd.read_pickle('full_features')\n",
    "df.drop(['max_order_number'],axis=1,inplace=True)"
   ]
  },
  {
   "cell_type": "code",
   "execution_count": 16,
   "metadata": {},
   "outputs": [],
   "source": [
    "products = pd.read_csv('products.csv')\n",
    "\n",
    "products.drop(['product_name','department_id'],axis=1,inplace=True)\n",
    "aisle_and_target = df[['product_id','in_cart']].merge(products,on='product_id')\n",
    "\n",
    "product_dummies = pd.get_dummies(aisle_and_target.aisle_id)\n",
    "target = aisle_and_target['in_cart']\n",
    "\n",
    "dummies_and_target = pd.DataFrame(target).merge(product_dummies,\n",
    "                                       left_index=True,\n",
    "                                       right_index=True)\n",
    "\n",
    "out = defaultdict(list)\n",
    "in_cart = dummies_and_target.in_cart\n",
    "dummies_len = len(dummies_and_target.columns)\n",
    "\n",
    "for i in range(1,dummies_len):\n",
    "    dummy = dummies_and_target.loc[:,i]\n",
    "    corr_dic = {'in_cart':in_cart,i:dummy}\n",
    "    corr_df = pd.DataFrame(corr_dic).corr()\n",
    "\n",
    "    out[i] = corr_df[i]['in_cart']*1000\n",
    "    \n",
    "aisles_corr = pd.DataFrame(out,index=range(0,1)).T.reset_index()\n",
    "aisles_corr.columns = ['aisle_id','aisle_target_correlation']\n",
    "pd.to_pickle(aisles_corr,'aisle_correlations_full_features')"
   ]
  },
  {
   "cell_type": "code",
   "execution_count": 17,
   "metadata": {},
   "outputs": [],
   "source": [
    "aisles_corr = pd.read_pickle('aisle_correlations_full_features')\n",
    "df = df.merge(products,on='product_id')\n",
    "df = df.merge(aisles_corr,on='aisle_id')\n",
    "df.drop(['aisle_id'],axis=1,inplace=True)"
   ]
  },
  {
   "cell_type": "code",
   "execution_count": 18,
   "metadata": {},
   "outputs": [
    {
     "name": "stdout",
     "output_type": "stream",
     "text": [
      "Gaussian Naive Bayes:\n",
      "Our f1-score is 0.4010307444325245\n",
      "And we've predicted 1498674 non-re-orders and 205005 re-orders.\n"
     ]
    }
   ],
   "source": [
    "X_tr, X_val, y_tr, y_val = get_user_split_data(df, val_size=.2, seed=42)\n",
    "print('Gaussian Naive Bayes:')\n",
    "fit_score_pred_G_NB(X_tr, X_val, y_tr, y_val)"
   ]
  },
  {
   "cell_type": "markdown",
   "metadata": {},
   "source": [
    "## Messing with thresholds"
   ]
  },
  {
   "cell_type": "code",
   "execution_count": 19,
   "metadata": {},
   "outputs": [],
   "source": [
    "X_tr, X_val, y_tr, y_val = get_user_split_data(df)"
   ]
  },
  {
   "cell_type": "code",
   "execution_count": 20,
   "metadata": {},
   "outputs": [],
   "source": [
    "clf = GaussianNB(var_smoothing=1e-9)\n",
    "clf.fit(X_tr, y_tr)\n",
    "probabilities = clf.predict_proba(X_val)[:,1]\n"
   ]
  },
  {
   "cell_type": "code",
   "execution_count": 21,
   "metadata": {},
   "outputs": [
    {
     "data": {
      "text/plain": [
       "0.7967907909648267"
      ]
     },
     "execution_count": 21,
     "metadata": {},
     "output_type": "execute_result"
    }
   ],
   "source": [
    "roc_auc_score(y_val,probabilities)"
   ]
  },
  {
   "cell_type": "code",
   "execution_count": 22,
   "metadata": {},
   "outputs": [],
   "source": [
    "fpr, tpr, thresholds = roc_curve(y_val,probabilities)"
   ]
  },
  {
   "cell_type": "code",
   "execution_count": 23,
   "metadata": {},
   "outputs": [],
   "source": [
    "probs = pd.DataFrame(probabilities)\n",
    "probs.columns = ['score']\n",
    "test = copy.deepcopy(probs)"
   ]
  },
  {
   "cell_type": "code",
   "execution_count": 24,
   "metadata": {},
   "outputs": [],
   "source": [
    "\n",
    "conditions = [\n",
    "    (test.score > 0.5),\n",
    "    (test.score < 0.5)\n",
    "]\n",
    "choices = [1,0]\n",
    "test.score = np.select(conditions, choices)"
   ]
  },
  {
   "cell_type": "code",
   "execution_count": 25,
   "metadata": {},
   "outputs": [
    {
     "data": {
      "text/plain": [
       "0.4010307444325245"
      ]
     },
     "execution_count": 25,
     "metadata": {},
     "output_type": "execute_result"
    }
   ],
   "source": [
    "f1_score(y_val,test)"
   ]
  },
  {
   "cell_type": "code",
   "execution_count": 26,
   "metadata": {},
   "outputs": [
    {
     "data": {
      "text/plain": [
       "{0.1: 0.39140394040448206,\n",
       " 0.12758620689655173: 0.39447240151622903,\n",
       " 0.15517241379310345: 0.3963627842009889,\n",
       " 0.1827586206896552: 0.3979673176564368,\n",
       " 0.21034482758620693: 0.39915747164196413,\n",
       " 0.23793103448275865: 0.3997948687749053,\n",
       " 0.2655172413793104: 0.4004110761635546,\n",
       " 0.2931034482758621: 0.40089559155383625,\n",
       " 0.3206896551724138: 0.4010696549089519,\n",
       " 0.34827586206896555: 0.40119410667181366,\n",
       " 0.3758620689655173: 0.401300870450655,\n",
       " 0.403448275862069: 0.4013452797248625,\n",
       " 0.4310344827586208: 0.4012952511862122,\n",
       " 0.45862068965517244: 0.4010698748704615,\n",
       " 0.4862068965517242: 0.40108587370676585,\n",
       " 0.5137931034482759: 0.4010660173160173,\n",
       " 0.5413793103448277: 0.4008374177438788,\n",
       " 0.5689655172413793: 0.40062924334311606,\n",
       " 0.5965517241379311: 0.4003173567609707,\n",
       " 0.6241379310344828: 0.4001225183081335,\n",
       " 0.6517241379310346: 0.3997565538344174,\n",
       " 0.6793103448275862: 0.39926680957666444,\n",
       " 0.706896551724138: 0.3989352777406503,\n",
       " 0.7344827586206897: 0.39835570133348613,\n",
       " 0.7620689655172415: 0.3978847219656383,\n",
       " 0.7896551724137931: 0.39750923851369047,\n",
       " 0.8172413793103449: 0.39690892601908295,\n",
       " 0.8448275862068966: 0.3963906298617593,\n",
       " 0.8724137931034484: 0.3954322747583167,\n",
       " 0.9: 0.394112207618961}"
      ]
     },
     "execution_count": 26,
     "metadata": {},
     "output_type": "execute_result"
    }
   ],
   "source": [
    "threshold = np.linspace(.1,.9,30)\n",
    "dict_thresholdf1 = dict()\n",
    "\n",
    "for i in threshold:\n",
    "    test = copy.deepcopy(probs)\n",
    "    conditions = [\n",
    "    (test.score > i),\n",
    "    (test.score < i)\n",
    "    ]\n",
    "    choices = [1,0]\n",
    "    test.score = np.select(conditions, choices)\n",
    "    dict_thresholdf1[i] = f1_score(y_val,test)\n",
    "\n",
    "dict_thresholdf1"
   ]
  },
  {
   "cell_type": "markdown",
   "metadata": {},
   "source": [
    "## How about Ordinal values"
   ]
  },
  {
   "cell_type": "code",
   "execution_count": 39,
   "metadata": {},
   "outputs": [],
   "source": [
    "df = pd.read_pickle('full_features')\n",
    "df.drop('max_order_number',axis=1,inplace=True)\n",
    "ord_prod_prior_df = pd.read_pickle('products_prior_reduced')\n",
    "ord_prod_prior_df = ord_prod_prior_df.merge(products,on='product_id')"
   ]
  },
  {
   "cell_type": "code",
   "execution_count": 40,
   "metadata": {},
   "outputs": [],
   "source": [
    "reordered_by_aisle = ord_prod_prior_df.groupby('aisle_id',as_index=False)['reordered'].sum()\n",
    "reordered_by_aisle.columns = ['aisle_id','reordered_by_aisle']"
   ]
  },
  {
   "cell_type": "code",
   "execution_count": 41,
   "metadata": {},
   "outputs": [],
   "source": [
    "ordinal_by_aisle = (reordered_by_aisle.sort_values('reordered_by_aisle')\n",
    "                    .reset_index(drop=True).reset_index())\n",
    "ordinal_by_aisle.drop('reordered_by_aisle',axis=1,inplace=True)\n",
    "ordinal_by_aisle.columns = ['ordinal_by_aisle','aisle_id']"
   ]
  },
  {
   "cell_type": "code",
   "execution_count": 42,
   "metadata": {},
   "outputs": [],
   "source": [
    "ordinal_by_aisle = ordinal_by_aisle.merge(products,on='aisle_id')"
   ]
  },
  {
   "cell_type": "code",
   "execution_count": 43,
   "metadata": {},
   "outputs": [],
   "source": [
    "ordinal_by_aisle.drop('aisle_id',inplace=True,axis=1)"
   ]
  },
  {
   "cell_type": "code",
   "execution_count": 44,
   "metadata": {},
   "outputs": [],
   "source": [
    "df = df.merge(ordinal_by_aisle,on='product_id')"
   ]
  },
  {
   "cell_type": "code",
   "execution_count": 46,
   "metadata": {},
   "outputs": [
    {
     "name": "stdout",
     "output_type": "stream",
     "text": [
      "Gaussian Naive Bayes:\n",
      "Our f1-score is 0.4006502754265753\n",
      "And we've predicted 1490769 non-re-orders and 204910 re-orders.\n"
     ]
    }
   ],
   "source": [
    "X_tr, X_val, y_tr, y_val = get_user_split_data(df, val_size=.2, seed=42)\n",
    "print('Gaussian Naive Bayes:')\n",
    "fit_score_pred_G_NB(X_tr, X_val, y_tr, y_val)"
   ]
  },
  {
   "cell_type": "markdown",
   "metadata": {},
   "source": [
    "## Messing with thresholds"
   ]
  },
  {
   "cell_type": "code",
   "execution_count": 19,
   "metadata": {},
   "outputs": [],
   "source": [
    "X_tr, X_val, y_tr, y_val = get_user_split_data(df)"
   ]
  },
  {
   "cell_type": "code",
   "execution_count": 20,
   "metadata": {},
   "outputs": [],
   "source": [
    "clf = GaussianNB(var_smoothing=1e-9)\n",
    "clf.fit(X_tr, y_tr)\n",
    "probabilities = clf.predict_proba(X_val)[:,1]\n"
   ]
  },
  {
   "cell_type": "code",
   "execution_count": 21,
   "metadata": {},
   "outputs": [
    {
     "data": {
      "text/plain": [
       "0.7967907909648267"
      ]
     },
     "execution_count": 21,
     "metadata": {},
     "output_type": "execute_result"
    }
   ],
   "source": [
    "roc_auc_score(y_val,probabilities)"
   ]
  },
  {
   "cell_type": "code",
   "execution_count": 22,
   "metadata": {},
   "outputs": [],
   "source": [
    "fpr, tpr, thresholds = roc_curve(y_val,probabilities)"
   ]
  },
  {
   "cell_type": "code",
   "execution_count": 23,
   "metadata": {},
   "outputs": [],
   "source": [
    "probs = pd.DataFrame(probabilities)\n",
    "probs.columns = ['score']\n",
    "test = copy.deepcopy(probs)"
   ]
  },
  {
   "cell_type": "code",
   "execution_count": 24,
   "metadata": {},
   "outputs": [],
   "source": [
    "\n",
    "conditions = [\n",
    "    (test.score > 0.5),\n",
    "    (test.score < 0.5)\n",
    "]\n",
    "choices = [1,0]\n",
    "test.score = np.select(conditions, choices)"
   ]
  },
  {
   "cell_type": "code",
   "execution_count": 25,
   "metadata": {},
   "outputs": [
    {
     "data": {
      "text/plain": [
       "0.4010307444325245"
      ]
     },
     "execution_count": 25,
     "metadata": {},
     "output_type": "execute_result"
    }
   ],
   "source": [
    "f1_score(y_val,test)"
   ]
  },
  {
   "cell_type": "code",
   "execution_count": 26,
   "metadata": {},
   "outputs": [
    {
     "data": {
      "text/plain": [
       "{0.1: 0.39140394040448206,\n",
       " 0.12758620689655173: 0.39447240151622903,\n",
       " 0.15517241379310345: 0.3963627842009889,\n",
       " 0.1827586206896552: 0.3979673176564368,\n",
       " 0.21034482758620693: 0.39915747164196413,\n",
       " 0.23793103448275865: 0.3997948687749053,\n",
       " 0.2655172413793104: 0.4004110761635546,\n",
       " 0.2931034482758621: 0.40089559155383625,\n",
       " 0.3206896551724138: 0.4010696549089519,\n",
       " 0.34827586206896555: 0.40119410667181366,\n",
       " 0.3758620689655173: 0.401300870450655,\n",
       " 0.403448275862069: 0.4013452797248625,\n",
       " 0.4310344827586208: 0.4012952511862122,\n",
       " 0.45862068965517244: 0.4010698748704615,\n",
       " 0.4862068965517242: 0.40108587370676585,\n",
       " 0.5137931034482759: 0.4010660173160173,\n",
       " 0.5413793103448277: 0.4008374177438788,\n",
       " 0.5689655172413793: 0.40062924334311606,\n",
       " 0.5965517241379311: 0.4003173567609707,\n",
       " 0.6241379310344828: 0.4001225183081335,\n",
       " 0.6517241379310346: 0.3997565538344174,\n",
       " 0.6793103448275862: 0.39926680957666444,\n",
       " 0.706896551724138: 0.3989352777406503,\n",
       " 0.7344827586206897: 0.39835570133348613,\n",
       " 0.7620689655172415: 0.3978847219656383,\n",
       " 0.7896551724137931: 0.39750923851369047,\n",
       " 0.8172413793103449: 0.39690892601908295,\n",
       " 0.8448275862068966: 0.3963906298617593,\n",
       " 0.8724137931034484: 0.3954322747583167,\n",
       " 0.9: 0.394112207618961}"
      ]
     },
     "execution_count": 26,
     "metadata": {},
     "output_type": "execute_result"
    }
   ],
   "source": [
    "threshold = np.linspace(.1,.9,30)\n",
    "dict_thresholdf1 = dict()\n",
    "\n",
    "for i in threshold:\n",
    "    test = copy.deepcopy(probs)\n",
    "    conditions = [\n",
    "    (test.score > i),\n",
    "    (test.score < i)\n",
    "    ]\n",
    "    choices = [1,0]\n",
    "    test.score = np.select(conditions, choices)\n",
    "    dict_thresholdf1[i] = f1_score(y_val,test)\n",
    "\n",
    "dict_thresholdf1"
   ]
  }
 ],
 "metadata": {
  "kernelspec": {
   "display_name": "Python 3",
   "language": "python",
   "name": "python3"
  },
  "language_info": {
   "codemirror_mode": {
    "name": "ipython",
    "version": 3
   },
   "file_extension": ".py",
   "mimetype": "text/x-python",
   "name": "python",
   "nbconvert_exporter": "python",
   "pygments_lexer": "ipython3",
   "version": "3.7.2"
  }
 },
 "nbformat": 4,
 "nbformat_minor": 2
}
