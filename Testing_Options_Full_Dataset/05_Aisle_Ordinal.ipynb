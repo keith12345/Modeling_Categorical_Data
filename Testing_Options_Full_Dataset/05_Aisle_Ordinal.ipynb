{
 "cells": [
  {
   "cell_type": "code",
   "execution_count": 1,
   "metadata": {},
   "outputs": [],
   "source": [
    "import os\n",
    "\n",
    "from collections import defaultdict\n",
    "\n",
    "import pandas as pd\n",
    "import numpy as np\n",
    "\n",
    "import matplotlib.pyplot as plt\n",
    "\n",
    "from Standard_functions import get_user_split_data, plot_fit_score_pred,fit_score_pred_G_NB\n",
    "from sklearn.naive_bayes import GaussianNB\n",
    "from sklearn.metrics import roc_auc_score\n",
    "from sklearn.metrics import roc_curve, f1_score\n",
    "import copy\n",
    "\n",
    "import warnings\n",
    "\n",
    "warnings.filterwarnings('always') "
   ]
  },
  {
   "cell_type": "code",
   "execution_count": 2,
   "metadata": {},
   "outputs": [],
   "source": [
    "os.chdir('../Data/')"
   ]
  },
  {
   "cell_type": "markdown",
   "metadata": {},
   "source": [
    "## Aisle Ordinal"
   ]
  },
  {
   "cell_type": "code",
   "execution_count": 3,
   "metadata": {},
   "outputs": [],
   "source": [
    "df = pd.read_pickle('full_features')\n",
    "df.drop('max_order_number',axis=1,inplace=True)\n",
    "ord_prod_prior_df = pd.read_pickle('products_prior_reduced')\n",
    "products = pd.read_csv('products.csv')\n",
    "products.drop(['department_id','product_name'],axis=1,inplace=True)\n",
    "ord_prod_prior_df = ord_prod_prior_df.merge(products,on='product_id')"
   ]
  },
  {
   "cell_type": "code",
   "execution_count": 4,
   "metadata": {},
   "outputs": [],
   "source": [
    "reordered_by_aisle = ord_prod_prior_df.groupby('aisle_id',as_index=False)['reordered'].sum()\n",
    "reordered_by_aisle.columns = ['aisle_id','reordered_by_aisle']"
   ]
  },
  {
   "cell_type": "code",
   "execution_count": 5,
   "metadata": {},
   "outputs": [],
   "source": [
    "ordinal_by_aisle = (reordered_by_aisle.sort_values('reordered_by_aisle')\n",
    "                    .reset_index(drop=True).reset_index())\n",
    "ordinal_by_aisle.drop('reordered_by_aisle',axis=1,inplace=True)\n",
    "ordinal_by_aisle.columns = ['ordinal_by_aisle','aisle_id']"
   ]
  },
  {
   "cell_type": "code",
   "execution_count": 6,
   "metadata": {},
   "outputs": [],
   "source": [
    "ordinal_by_aisle = ordinal_by_aisle.merge(products,on='aisle_id')"
   ]
  },
  {
   "cell_type": "code",
   "execution_count": 7,
   "metadata": {},
   "outputs": [],
   "source": [
    "ordinal_by_aisle.drop('aisle_id',inplace=True,axis=1)"
   ]
  },
  {
   "cell_type": "code",
   "execution_count": 8,
   "metadata": {},
   "outputs": [],
   "source": [
    "df = df.merge(ordinal_by_aisle,on='product_id')"
   ]
  },
  {
   "cell_type": "code",
   "execution_count": 9,
   "metadata": {},
   "outputs": [
    {
     "name": "stdout",
     "output_type": "stream",
     "text": [
      "Gaussian Naive Bayes:\n",
      "Our f1-score is 0.4006502754265753\n",
      "And we've predicted 1490769 non-re-orders and 204910 re-orders.\n"
     ]
    }
   ],
   "source": [
    "X_tr, X_val, y_tr, y_val = get_user_split_data(df, val_size=.2, seed=42)\n",
    "print('Gaussian Naive Bayes:')\n",
    "fit_score_pred_G_NB(X_tr, X_val, y_tr, y_val)"
   ]
  },
  {
   "cell_type": "markdown",
   "metadata": {},
   "source": [
    "## Messing with thresholds"
   ]
  },
  {
   "cell_type": "code",
   "execution_count": 10,
   "metadata": {},
   "outputs": [],
   "source": [
    "X_tr, X_val, y_tr, y_val = get_user_split_data(df)"
   ]
  },
  {
   "cell_type": "code",
   "execution_count": 11,
   "metadata": {},
   "outputs": [],
   "source": [
    "clf = GaussianNB(var_smoothing=1e-9)\n",
    "clf.fit(X_tr, y_tr)\n",
    "probabilities = clf.predict_proba(X_val)[:,1]\n"
   ]
  },
  {
   "cell_type": "code",
   "execution_count": 12,
   "metadata": {},
   "outputs": [
    {
     "data": {
      "text/plain": [
       "0.79698487743988"
      ]
     },
     "execution_count": 12,
     "metadata": {},
     "output_type": "execute_result"
    }
   ],
   "source": [
    "roc_auc_score(y_val,probabilities)"
   ]
  },
  {
   "cell_type": "code",
   "execution_count": 13,
   "metadata": {},
   "outputs": [],
   "source": [
    "fpr, tpr, thresholds = roc_curve(y_val,probabilities)"
   ]
  },
  {
   "cell_type": "code",
   "execution_count": 14,
   "metadata": {},
   "outputs": [],
   "source": [
    "probs = pd.DataFrame(probabilities)\n",
    "probs.columns = ['score']\n",
    "test = copy.deepcopy(probs)"
   ]
  },
  {
   "cell_type": "code",
   "execution_count": 15,
   "metadata": {},
   "outputs": [
    {
     "data": {
      "text/plain": [
       "{0.1: 0.39474871740949574,\n",
       " 0.12758620689655173: 0.3978379067585905,\n",
       " 0.15517241379310345: 0.3994436170511704,\n",
       " 0.1827586206896552: 0.40049866122382566,\n",
       " 0.21034482758620693: 0.40087926640165333,\n",
       " 0.23793103448275865: 0.40126180159973124,\n",
       " 0.2655172413793104: 0.4015118541976216,\n",
       " 0.2931034482758621: 0.4015085405553068,\n",
       " 0.3206896551724138: 0.4015983811791638,\n",
       " 0.34827586206896555: 0.401388222796351,\n",
       " 0.3758620689655173: 0.40136565629249804,\n",
       " 0.403448275862069: 0.4013639675625239,\n",
       " 0.4310344827586208: 0.40117034423753334,\n",
       " 0.45862068965517244: 0.4008946594363433,\n",
       " 0.4862068965517242: 0.400587105638839,\n",
       " 0.5137931034482759: 0.4005521882616855,\n",
       " 0.5413793103448277: 0.4002648999432745,\n",
       " 0.5689655172413793: 0.39986558405367895,\n",
       " 0.5965517241379311: 0.39944790724401785,\n",
       " 0.6241379310344828: 0.3992726407182811,\n",
       " 0.6517241379310346: 0.3991185917525371,\n",
       " 0.6793103448275862: 0.39883892137478444,\n",
       " 0.706896551724138: 0.39846509618561154,\n",
       " 0.7344827586206897: 0.39815865271155165,\n",
       " 0.7620689655172415: 0.397530828833732,\n",
       " 0.7896551724137931: 0.39692933723900087,\n",
       " 0.8172413793103449: 0.3961091125004366,\n",
       " 0.8448275862068966: 0.39509539186620163,\n",
       " 0.8724137931034484: 0.39397699811781184,\n",
       " 0.9: 0.39283363934406523}"
      ]
     },
     "execution_count": 15,
     "metadata": {},
     "output_type": "execute_result"
    }
   ],
   "source": [
    "threshold = np.linspace(.1,.9,30)\n",
    "dict_thresholdf1 = dict()\n",
    "\n",
    "for i in threshold:\n",
    "    test = copy.deepcopy(probs)\n",
    "    conditions = [\n",
    "    (test.score > i),\n",
    "    (test.score < i)\n",
    "    ]\n",
    "    choices = [1,0]\n",
    "    test.score = np.select(conditions, choices)\n",
    "    dict_thresholdf1[i] = f1_score(y_val,test)\n",
    "\n",
    "dict_thresholdf1"
   ]
  },
  {
   "cell_type": "code",
   "execution_count": null,
   "metadata": {},
   "outputs": [],
   "source": []
  }
 ],
 "metadata": {
  "kernelspec": {
   "display_name": "Python 3",
   "language": "python",
   "name": "python3"
  },
  "language_info": {
   "codemirror_mode": {
    "name": "ipython",
    "version": 3
   },
   "file_extension": ".py",
   "mimetype": "text/x-python",
   "name": "python",
   "nbconvert_exporter": "python",
   "pygments_lexer": "ipython3",
   "version": "3.7.2"
  }
 },
 "nbformat": 4,
 "nbformat_minor": 2
}
